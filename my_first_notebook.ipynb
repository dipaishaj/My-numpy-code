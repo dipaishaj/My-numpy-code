{
 "cells": [
  {
   "cell_type": "code",
   "execution_count": 2,
   "metadata": {},
   "outputs": [
    {
     "data": {
      "text/plain": [
       "10.5"
      ]
     },
     "execution_count": 2,
     "metadata": {},
     "output_type": "execute_result"
    }
   ],
   "source": [
    "def area_of_triangle(base,height):\n",
    "    return base*height/2\n",
    "area_of_triangle(7,3)"
   ]
  },
  {
   "cell_type": "code",
   "execution_count": 5,
   "metadata": {},
   "outputs": [
    {
     "name": "stdout",
     "output_type": "stream",
     "text": [
      "a is of type: <class 'int'>\n",
      "five times a is: 15\n",
      "b is of type: <class 'float'>\n",
      "c= 1.875\n"
     ]
    }
   ],
   "source": [
    "# types of variable. Printing class of variable by using \"type\" function\n",
    "a=3\n",
    "print('a is of type:',type(a))\n",
    "print('five times a is:',5*a)\n",
    "b=1.6\n",
    "print('b is of type:', type(b))\n",
    "print('c=',a/b)"
   ]
  },
  {
   "cell_type": "code",
   "execution_count": 22,
   "metadata": {},
   "outputs": [
    {
     "name": "stdout",
     "output_type": "stream",
     "text": [
      "['Dips', 5, 2, 4, 4, [1, 2, 3], 2.5]\n",
      "[1, 2, 3]\n",
      "2.5\n"
     ]
    }
   ],
   "source": [
    "#Creating and indexing a list.\n",
    "MyList = ['Dips',5,2,4,4,[1,2,3],2.5]\n",
    "print(MyList)\n",
    "print(MyList[5])\n",
    "print(MyList[-1])"
   ]
  },
  {
   "cell_type": "code",
   "execution_count": null,
   "metadata": {},
   "outputs": [],
   "source": []
  },
  {
   "cell_type": "code",
   "execution_count": 13,
   "metadata": {},
   "outputs": [
    {
     "name": "stdout",
     "output_type": "stream",
     "text": [
      "['Dips', 5, 'February', 4, [1, 2, 3], 'I love Programmimg', 'I love Programmimg']\n",
      "7\n",
      "['Dips', 5, 'February', 4, [1, 2, 3], 'I love Programmimg']\n"
     ]
    }
   ],
   "source": [
    "#Append and pop item to the list\n",
    "MyList[2]='February'\n",
    "MyList.append('I love Programmimg')\n",
    "print(MyList)\n",
    "print(len(MyList))\n",
    "MyList.pop(5)\n",
    "print(MyList)"
   ]
  },
  {
   "cell_type": "code",
   "execution_count": 15,
   "metadata": {},
   "outputs": [
    {
     "name": "stdout",
     "output_type": "stream",
     "text": [
      "[3, 10, 76]\n",
      "['Dips', 5, 'February', 4, [1, 2, 3], [3, 10, 76]]\n",
      "10\n"
     ]
    }
   ],
   "source": [
    "#Creating a list inside list and indexing it\n",
    "MyList[5]=[3,10,76]\n",
    "print(MyList[5])\n",
    "print(MyList)\n",
    "print(MyList[5][1])"
   ]
  },
  {
   "cell_type": "code",
   "execution_count": 18,
   "metadata": {},
   "outputs": [
    {
     "name": "stdout",
     "output_type": "stream",
     "text": [
      "['Dips', 5, 'February', 4, [1, 2, 3], 'Python']\n",
      "['Dips', 5, 'February', 4, [1, 2, 3], 'Python']\n",
      "['Dips', 5, 'February', 4, [1, 2, 3], 'Python in Jupyter']\n",
      "['Dips', 5, 'February', 4, [1, 2, 3], 'Python']\n"
     ]
    }
   ],
   "source": [
    "# Copying list into another list.---use copy() command.\n",
    "NewList=MyList\n",
    "NewList[5]='Python'\n",
    "print(NewList)\n",
    "print(MyList)\n",
    "NewList=MyList.copy()\n",
    "NewList[5]='Python in Jupyter'\n",
    "print(NewList)\n",
    "print(MyList)"
   ]
  },
  {
   "cell_type": "code",
   "execution_count": 21,
   "metadata": {},
   "outputs": [
    {
     "name": "stdout",
     "output_type": "stream",
     "text": [
      "('Dips', 3, 10, 76, 76)\n",
      "3\n"
     ]
    },
    {
     "ename": "TypeError",
     "evalue": "'tuple' object does not support item assignment",
     "output_type": "error",
     "traceback": [
      "\u001b[1;31m---------------------------------------------------------------------------\u001b[0m",
      "\u001b[1;31mTypeError\u001b[0m                                 Traceback (most recent call last)",
      "\u001b[1;32m<ipython-input-21-6a106504bd3c>\u001b[0m in \u001b[0;36m<module>\u001b[1;34m\u001b[0m\n\u001b[0;32m      3\u001b[0m \u001b[0mprint\u001b[0m\u001b[1;33m(\u001b[0m\u001b[0msimple_tuple\u001b[0m\u001b[1;33m)\u001b[0m\u001b[1;33m\u001b[0m\u001b[1;33m\u001b[0m\u001b[0m\n\u001b[0;32m      4\u001b[0m \u001b[0mprint\u001b[0m\u001b[1;33m(\u001b[0m\u001b[0msimple_tuple\u001b[0m\u001b[1;33m[\u001b[0m\u001b[1;36m1\u001b[0m\u001b[1;33m]\u001b[0m\u001b[1;33m)\u001b[0m\u001b[1;33m\u001b[0m\u001b[1;33m\u001b[0m\u001b[0m\n\u001b[1;32m----> 5\u001b[1;33m \u001b[0msimple_tuple\u001b[0m\u001b[1;33m[\u001b[0m\u001b[1;36m2\u001b[0m\u001b[1;33m]\u001b[0m\u001b[1;33m=\u001b[0m\u001b[1;36m20\u001b[0m\u001b[1;33m\u001b[0m\u001b[1;33m\u001b[0m\u001b[0m\n\u001b[0m\u001b[0;32m      6\u001b[0m \u001b[0msimple_tuple\u001b[0m\u001b[1;33m=\u001b[0m\u001b[0mtuple\u001b[0m\u001b[1;33m(\u001b[0m\u001b[0mDummy\u001b[0m\u001b[1;33m)\u001b[0m\u001b[1;33m\u001b[0m\u001b[1;33m\u001b[0m\u001b[0m\n\u001b[0;32m      7\u001b[0m \u001b[0mprint\u001b[0m\u001b[1;33m(\u001b[0m\u001b[0mDummy\u001b[0m\u001b[1;33m)\u001b[0m\u001b[1;33m\u001b[0m\u001b[1;33m\u001b[0m\u001b[0m\n",
      "\u001b[1;31mTypeError\u001b[0m: 'tuple' object does not support item assignment"
     ]
    }
   ],
   "source": [
    "#Tuple: ordered collection of values thar are unchangeable and allows duplicates\n",
    "simple_tuple = ('Dips',3,10,76,76)\n",
    "print(simple_tuple)\n",
    "print(simple_tuple[1])\n",
    "simple_tuple[2]=20\n",
    "simple_tuple=tuple(Dummy)\n",
    "print(Dummy)"
   ]
  },
  {
   "cell_type": "code",
   "execution_count": 24,
   "metadata": {},
   "outputs": [
    {
     "name": "stdout",
     "output_type": "stream",
     "text": [
      "{'n', 'u', 'me', 'all'}\n",
      "{'n', 'no-one', 'me', 'u'}\n"
     ]
    }
   ],
   "source": [
    "# SET:  unordered collection of values thar are changeable and no duplicates are allowed\n",
    "MySet={'u','me','n','all','me'}\n",
    "print(MySet)\n",
    "MySet.add('no-one')\n",
    "MySet.remove('all')\n",
    "print(MySet)\n",
    "# print(MySet[1])   #  ERROR----unordered collection of values"
   ]
  },
  {
   "cell_type": "code",
   "execution_count": 26,
   "metadata": {},
   "outputs": [
    {
     "name": "stdout",
     "output_type": "stream",
     "text": [
      "I brought a new iphone Model 11 Pro from Apple\n",
      "I brought a new iphone Model 12 from Apple\n",
      "I brought a new iphone Model 12 from Apple which is RoseGold\n"
     ]
    }
   ],
   "source": [
    "# DICTIONARY unordered collection of values thar are changeable\n",
    "MyDict={\n",
    "    \"product\": 'iphone',\n",
    "    \"Model\" : \"11 Pro\",\n",
    "    \"Company\" : \"Apple\"\n",
    "}\n",
    "print('I brought a new', MyDict['product'], \"Model\", MyDict['Model'], \"from\", MyDict['Company'])\n",
    "MyDict['Model']='12'\n",
    "print('I brought a new', MyDict['product'], \"Model\", MyDict['Model'], \"from\", MyDict['Company'])\n",
    "MyDict[\"color\"]='RoseGold'\n",
    "print('I brought a new', MyDict['product'], \"Model\", MyDict['Model'], \"from\", MyDict['Company'],'which is',MyDict['color'])\n"
   ]
  },
  {
   "cell_type": "code",
   "execution_count": null,
   "metadata": {},
   "outputs": [],
   "source": []
  }
 ],
 "metadata": {
  "kernelspec": {
   "display_name": "Python 3",
   "language": "python",
   "name": "python3"
  },
  "language_info": {
   "codemirror_mode": {
    "name": "ipython",
    "version": 3
   },
   "file_extension": ".py",
   "mimetype": "text/x-python",
   "name": "python",
   "nbconvert_exporter": "python",
   "pygments_lexer": "ipython3",
   "version": "3.8.5"
  }
 },
 "nbformat": 4,
 "nbformat_minor": 4
}
